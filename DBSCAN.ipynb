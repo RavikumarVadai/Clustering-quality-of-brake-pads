{
 "cells": [
  {
   "cell_type": "code",
   "execution_count": 16,
   "metadata": {},
   "outputs": [],
   "source": [
    "# loading sound files \n",
    "import glob\n",
    "import scipy.fftpack\n",
    "path = (glob.glob(\"datasets/ddp/*.wav\"))"
   ]
  },
  {
   "cell_type": "code",
   "execution_count": 21,
   "metadata": {},
   "outputs": [],
   "source": [
    "def sound(loc):\n",
    "    from scipy.io import wavfile as wav\n",
    "    import numpy as np\n",
    "    rate, data = wav.read(loc)\n",
    "    import matplotlib.pyplot as plt\n",
    "   \n",
    "    # beat detection \n",
    "    # roughly the brake liner is tapped more than 10 times at different locations\n",
    "        #to capture acoustic signals at different locations of brake liner\n",
    "    \n",
    "    threshold = 3000\n",
    "    beat = []\n",
    "    i = 0\n",
    "    while i < len(data):\n",
    "        if abs(data[i]) >= threshold:\n",
    "            beat.append(i)\n",
    "            i = i+10000\n",
    "        i+=1\n",
    "    total_beats = len(beat) # finding total no of beats at one test\n",
    "    print(loc)\n",
    "    \n",
    "    def maximum(array = None): # finding the frequency at which maximum value of frequency is obtained\n",
    "        length = p+q\n",
    "        freq = (rate/2)*(np.linspace(0,1,int(length/2)))\n",
    "        fft_sig = abs(np.fft.fft(array))\n",
    "        dim = int(length/2)\n",
    "        idx = np.argmax(fft_sig[25:dim])\n",
    "        return [idx,max(fft_sig)]\n",
    "    \n",
    "    #window or binning \n",
    "    p = 1000\n",
    "    q = 6000\n",
    "    beats = []\n",
    "    for i in range(total_beats):\n",
    "        beats.append(data[(beat[i]-p):(beat[i]+q)])\n",
    "    \n",
    "    result = []\n",
    "    final_result = []\n",
    "    for array in beats:\n",
    "        if len(array) == p+q:\n",
    "            result.append(maximum(array)) # appending all tap sounds of brake liner\n",
    "            \n",
    "    final_result = np.array(result)\n",
    "    if len(final_result)> 10:\n",
    "        from sklearn.cluster import DBSCAN\n",
    "        from sklearn import preprocessing\n",
    "        scaler = preprocessing.StandardScaler().fit(final_result) # normalizing the data \n",
    "        final_result2 = scaler.transform(final_result)\n",
    "        clf = DBSCAN( eps = 0.5, min_samples= 5 ) # using density based cluseter \n",
    "        clf.fit(final_result2)\n",
    "        labels = clf.labels_ \n",
    "        n_clusters_ = len(set(labels)) - (1 if -1 in labels else 0)\n",
    "        print(\"no. of clusters is\", n_clusters_)\n",
    "        plt.scatter(final_result2[:,0], final_result2[:,1],c=labels.astype(np.float))\n",
    "        plt.xlim(-10,10)\n",
    "        plt.show() "
   ]
  },
  {
   "cell_type": "code",
   "execution_count": 22,
   "metadata": {},
   "outputs": [
    {
     "name": "stdout",
     "output_type": "stream",
     "text": [
      "datasets/ddp\\bad_brake_liner.wav\n",
      "no. of clusters is 2\n"
     ]
    },
    {
     "data": {
      "image/png": "[encoded data removed]",
      "text/plain": [
       "<matplotlib.figure.Figure at 0x26f7064aac8>"
      ]
     },
     "metadata": {},
     "output_type": "display_data"
    },
    {
     "name": "stdout",
     "output_type": "stream",
     "text": [
      "datasets/ddp\\good_brake_liner.wav\n",
      "no. of clusters is 1\n"
     ]
    },
    {
     "data": {
      "image/png": "[encoded data removed]",
      "text/plain": [
       "<matplotlib.figure.Figure at 0x26f708ab518>"
      ]
     },
     "metadata": {},
     "output_type": "display_data"
    }
   ],
   "source": [
    "# passing the sound function to all the datasets\n",
    "# here just two samples are taken for the test\n",
    "for directory in path:\n",
    "    sound(directory)"
   ]
  },
  {
   "cell_type": "code",
   "execution_count": null,
   "metadata": {},
   "outputs": [],
   "source": []
  }
 ],
 "metadata": {
  "kernelspec": {
   "display_name": "Python 3",
   "language": "python",
   "name": "python3"
  },
  "language_info": {
   "codemirror_mode": {
    "name": "ipython",
    "version": 3
   },
   "file_extension": ".py",
   "mimetype": "text/x-python",
   "name": "python",
   "nbconvert_exporter": "python",
   "pygments_lexer": "ipython3",
   "version": "3.6.4"
  }
 },
 "nbformat": 4,
 "nbformat_minor": 2
}
